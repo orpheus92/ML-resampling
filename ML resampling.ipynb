{
 "cells": [
  {
   "cell_type": "markdown",
   "metadata": {},
   "source": [
    "# Problem Statement: Why resampling"
   ]
  },
  {
   "cell_type": "raw",
   "metadata": {},
   "source": [
    "Statistical/visualization methods available to study the existing data:\n",
    "regression, response surface fitting, generalized additive models, clustering, projection / multi-dim scaling, ML"
   ]
  },
  {
   "cell_type": "markdown",
   "metadata": {},
   "source": [
    "Rely on good collection of sampling points "
   ]
  },
  {
   "cell_type": "markdown",
   "metadata": {},
   "source": [
    "Examples: "
   ]
  },
  {
   "cell_type": "markdown",
   "metadata": {},
   "source": [
    "# For our task: high dimensional data\n",
    "Many ways to represent high dimensional data\n",
    "\n",
    "Examples: projection of data into 2D/3D subspace, star coordinates, Chernoff faces, andrews plots, parallel coordinates\n",
    "Under-connected graph, wrong topology (low sampling density in some region)"
   ]
  },
  {
   "cell_type": "markdown",
   "metadata": {},
   "source": [
    "Our analytical method: Calculate Morse-Smale complex + persistence simplification + inverse kernel regression to estimate high dimensional space."
   ]
  },
  {
   "cell_type": "markdown",
   "metadata": {},
   "source": [
    "Validation of the model is not trivial, resampling would help"
   ]
  },
  {
   "cell_type": "markdown",
   "metadata": {},
   "source": [
    "# Two Problems: \n",
    "1. Undersampled domain we don't know about confidence of out local extrema, accuracy of persistence value and credibility of derived topology. \n",
    "Caused by: sparse sampling, inappropriate points distribution \n",
    "2. Algorithm that depends on an imposed neighbor graph, the graph can give degraded results due to connectivity/spacing"
   ]
  },
  {
   "cell_type": "markdown",
   "metadata": {},
   "source": [
    "# Sampling Strategy: \n",
    "# Space-filling sampling vs Adaptive Sampling"
   ]
  },
  {
   "cell_type": "markdown",
   "metadata": {},
   "source": [
    "# Space-filling"
   ]
  },
  {
   "cell_type": "markdown",
   "metadata": {},
   "source": [
    "# Solutions: \n",
    "Identify ROI, driven by the idea of importance sampling/ adaptive sampling (Not the same), find another measure to decide the ROI\n",
    "\n",
    "Within an ROI, depending on space sampling budget, use space-filling design "
   ]
  },
  {
   "cell_type": "markdown",
   "metadata": {},
   "source": [
    "# Too pick ROI, \n",
    "Depend on users\n",
    "1. Good collection of points might be more robust to noise, give better underlying structure. However, we do not know about the distribution of points. \n",
    "For global optimization problem. If we want to fit a model globally, we want to reduce overall error, \n",
    "Problem (poor distribution, missing details, hard to get accurate model for specific area)\n",
    "\n",
    "2. Sparse region, outliers, or undersampled \n",
    "Accurate model in a specific area.\n",
    "\n",
    "Need to consiider both. Need to find a measure we can expose that lets the user go one way or the other more.\n"
   ]
  },
  {
   "cell_type": "markdown",
   "metadata": {},
   "source": [
    "# Exisiting measures to verify the topology (to help decide ROI): \n",
    "1. Sampling density\n",
    "2. Graphs:  Avoid crossing edges, and we want graphs with well-spaced edges, may be used as a standard to decide ROI. Rips Complex example\n",
    "\n",
    "\n",
    "Thus we need more / better samples "
   ]
  },
  {
   "cell_type": "markdown",
   "metadata": {},
   "source": [
    "# Our Approach\n",
    "Goal: To verify the topology, or algorithm\n",
    "1. Around local extrema (Relate to key concept of persistence simplification ), see if topology holds\n",
    "2. sparse region on each partition (Relate to key concept of using Inverse Kernel Regression to estimate geometric structure in high dimension space), see if the estimated behavior of points holds"
   ]
  },
  {
   "cell_type": "markdown",
   "metadata": {},
   "source": [
    "# Blue-noise property from poisson disk sampling ???"
   ]
  },
  {
   "cell_type": "markdown",
   "metadata": {},
   "source": [
    "Random Sampling"
   ]
  },
  {
   "cell_type": "markdown",
   "metadata": {},
   "source": [
    "Latin Hypercube\n",
    "\n",
    "Controlled random sampling points\n",
    "Make sampling distribution close to PDF.Randomly combine different dimensions.\n",
    "Inside each grid, random select \n",
    "![title](Latin-hypercube-sampling-LHS.PNG)"
   ]
  },
  {
   "cell_type": "markdown",
   "metadata": {},
   "source": [
    "Centroidal Voronoi Tessellation\n",
    "\n",
    "Optimal partition corresponding to an optimal distribution of generators\n",
    "the generating point of each Voronoi cell is also its mean (center of mass)\n",
    "![title](cvt.PNG)"
   ]
  },
  {
   "cell_type": "markdown",
   "metadata": {},
   "source": [
    "Poisson Disk Sampling\n",
    "(Poisson Sampling, sampling process where each element of the population is subjected to an independent Bernoulli trial which determines whether the element becomes part of the sample)\n",
    "\n",
    "An algorithm that places the samples randomly, but then checks that any two are not too close. \n",
    "\n",
    "The end result is an even but random distribution of samples. \n",
    "However, the computational time required for this algorithm is too great to justify its use in real-time rendering unless the sampling itself is computationally expensive compared to the positioning the sample points or the sample points are not repositioned for every single pixel"
   ]
  },
  {
   "cell_type": "markdown",
   "metadata": {},
   "source": [
    "# Adaptive (less related to ROI)"
   ]
  },
  {
   "cell_type": "markdown",
   "metadata": {},
   "source": [
    "Importance Sampling\n",
    "Key: do not resample from pdf, but find a distorted pdf to improve monte carlo sampling accuracy "
   ]
  },
  {
   "cell_type": "markdown",
   "metadata": {},
   "source": [
    "Monte Carlo Sampling, Latin Sampling can lead to problems when imposing ngl graph\n",
    "The number of edges to capture good connectivity varies between sparse regions / dense regions. "
   ]
  },
  {
   "cell_type": "markdown",
   "metadata": {},
   "source": [
    "CVT, Poisson Disk, more evenly distributed, costly in HD"
   ]
  },
  {
   "cell_type": "markdown",
   "metadata": {},
   "source": [
    "# Our Approach: \n",
    "Space filling, considering points are always sparsely sampled in high dimensional space. \n",
    "Random sampling with PDF as a gaussian estimated by regression\n"
   ]
  },
  {
   "cell_type": "markdown",
   "metadata": {},
   "source": []
  },
  {
   "cell_type": "markdown",
   "metadata": {},
   "source": []
  },
  {
   "cell_type": "markdown",
   "metadata": {},
   "source": []
  },
  {
   "cell_type": "markdown",
   "metadata": {},
   "source": [
    "# Feature Space Resampling for Protein Conformation Search"
   ]
  },
  {
   "cell_type": "markdown",
   "metadata": {},
   "source": [
    "# Multidimensional Adaptive Sampling and Reconstruction for Ray Tracing\n"
   ]
  },
  {
   "cell_type": "markdown",
   "metadata": {},
   "source": [
    "# ParaGlide"
   ]
  },
  {
   "cell_type": "markdown",
   "metadata": {},
   "source": [
    "# Our Approach"
   ]
  },
  {
   "cell_type": "markdown",
   "metadata": {},
   "source": [
    "# Bootstrap\n",
    "sampling with replacement from the original sample\n",
    "\n",
    "purpose of deriving robust estimates of standard errors and confidence intervals of a population parameter like a mean, median, proportion, odds ratio, correlation coefficient or regression coefficient"
   ]
  },
  {
   "cell_type": "markdown",
   "metadata": {},
   "source": [
    "# Jackknife\n",
    "resampling technique especially useful for variance and bias estimation\n",
    "systematically leaving out each observation from a dataset and calculating the estimate and then finding the average of these calculations"
   ]
  }
 ],
 "metadata": {
  "kernelspec": {
   "display_name": "Python 3",
   "language": "python",
   "name": "python3"
  },
  "language_info": {
   "codemirror_mode": {
    "name": "ipython",
    "version": 3
   },
   "file_extension": ".py",
   "mimetype": "text/x-python",
   "name": "python",
   "nbconvert_exporter": "python",
   "pygments_lexer": "ipython3",
   "version": "3.6.3"
  }
 },
 "nbformat": 4,
 "nbformat_minor": 2
}
